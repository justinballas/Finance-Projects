{
  "nbformat": 4,
  "nbformat_minor": 0,
  "metadata": {
    "colab": {
      "name": "Ratios_Backtest.ipynb",
      "provenance": [],
      "collapsed_sections": [],
      "authorship_tag": "ABX9TyNdVYXNQ4rLvT4hP1omxdv2",
      "include_colab_link": true
    },
    "kernelspec": {
      "name": "python3",
      "display_name": "Python 3"
    },
    "language_info": {
      "name": "python"
    }
  },
  "cells": [
    {
      "cell_type": "markdown",
      "metadata": {
        "id": "view-in-github",
        "colab_type": "text"
      },
      "source": [
        "<a href=\"https://colab.research.google.com/github/justinballas/Finance-Projects/blob/main/Ratios_Backtest.ipynb\" target=\"_parent\"><img src=\"https://colab.research.google.com/assets/colab-badge.svg\" alt=\"Open In Colab\"/></a>"
      ]
    },
    {
      "cell_type": "code",
      "metadata": {
        "id": "hKlgFnE6mjmj"
      },
      "source": [
        "!pip install ffn"
      ],
      "execution_count": null,
      "outputs": []
    },
    {
      "cell_type": "code",
      "metadata": {
        "id": "9x3UO8rMXCh8"
      },
      "source": [
        "import numpy as np\n",
        "import pandas as pd\n",
        "import requests\n",
        "import datetime as dt\n",
        "import ffn\n",
        "%matplotlib inline"
      ],
      "execution_count": 27,
      "outputs": []
    },
    {
      "cell_type": "code",
      "metadata": {
        "id": "8gvrJrGmZkhK"
      },
      "source": [
        "def quarter(date):\n",
        "\n",
        "  '''\n",
        "  This function takes in a series of dates, then converts them to month and day\n",
        "  values, to be converted into fiscal quarters.\n",
        "  '''\n",
        "\n",
        "  date=date.strftime('%m-%d')\n",
        "\n",
        "  if date >='01-01' and date <= '03-31':\n",
        "    return 'Q1'\n",
        "  elif date >= '04-01' and date <= '06-31':\n",
        "    return 'Q2'\n",
        "  elif date >= '07-01' and date <= '09-30':\n",
        "    return 'Q3'\n",
        "  else:\n",
        "    return 'Q4'"
      ],
      "execution_count": 3,
      "outputs": []
    },
    {
      "cell_type": "code",
      "metadata": {
        "id": "zdtOla3pXHE6"
      },
      "source": [
        "df = pd.read_excel('SP500 Financial Statements v2.xlsx')\n",
        "#preparing the data as it is returned from the CSV\n",
        "statements_df = df.set_index('symbol')\n",
        "\n",
        "hist_df = pd.read_excel('SP500 historical Prices.xlsx')\n",
        "hist_df['symbol'].ffill(inplace=True)\n",
        "\n",
        "#Merge adjusted close column to statements_df\n",
        "\n",
        "#converting the items in the date column into datetime objects\n",
        "hist_df['date'] = [dt.datetime.strptime(date, \"%Y-%m-%d\") for date in hist_df['date']]\n",
        "\n",
        "#creting the period column\n",
        "hist_df['period'] = hist_df['date'].apply(quarter)\n",
        "\n",
        "#appending the period and date column to be combined with symbol in order to create a multi index\n",
        "hist_df.reset_index(inplace=True)\n",
        "hist_df['year'] = [hist_df['date'][i].strftime(\"%Y\") for i in range(len(hist_df['period']))]\n",
        "\n",
        "#setting the multi index\n",
        "hist_df.set_index(['symbol', 'year', 'period'], inplace=True)\n",
        "\n",
        "beg_df = hist_df[~hist_df.index.duplicated(keep='last')]['adjClose']\n",
        "end_df = hist_df[~hist_df.index.duplicated(keep='first')]['adjClose']\n",
        "diff_df = end_df - beg_df\n",
        "\n",
        "statements_df.reset_index(inplace=True)\n",
        "statements_df.set_index(['symbol','year','period'], drop=True, inplace=True)"
      ],
      "execution_count": 5,
      "outputs": []
    },
    {
      "cell_type": "code",
      "metadata": {
        "colab": {
          "base_uri": "https://localhost:8080/"
        },
        "id": "cGyIfsyudF64",
        "outputId": "770f1860-cbce-4d39-c210-506bff8c7857"
      },
      "source": [
        "#columns that I want to rank by 'pe_ratio', 'ROE', 'Operating Margin', 'EV/EBITDA'\n",
        "rank_df = statements_df.loc[slice(None), 2016, 'Q4']\n",
        "\n",
        "rank_df = rank_df[~rank_df.index.duplicated(keep='first')]\n",
        "\n",
        "ROE_rank = rank_df[rank_df['ROE']>0]['ROE'].rank(pct=True)\n",
        "OM_rank = rank_df[rank_df['Operating Margin']>0]['Operating Margin'].rank(pct=True, ascending=False)\n",
        "EV_EBITDA_rank = rank_df[rank_df['EV/EBITDA']>0]['EV/EBITDA'].rank(pct=True)\n",
        "PE_rank = rank_df[rank_df['pe_ratio']>0]['pe_ratio'].rank(pct=True)\n",
        "\n",
        "total_rank = PE_rank + ROE_rank + OM_rank + EV_EBITDA_rank\n",
        "#total_rank.sort_values().loc[slice(None), '2020.0', 'Q4']\n",
        "\n",
        "portfolio = list(total_rank.sort_values().head(30).index)\n",
        "print(portfolio)"
      ],
      "execution_count": 6,
      "outputs": [
        {
          "output_type": "stream",
          "text": [
            "['BEN', 'RE', 'TROW', 'GILD', 'GLW', 'PPL', 'DISCK', 'DISCA', 'INTC', 'KSU', 'AMGN', 'SWKS', 'BLK', 'IPGP', 'ORCL', 'VNO', 'CSCO', 'EBAY', 'NSC', 'JNPR', 'IVZ', 'UNP', 'ADI', 'CSX', 'APH', 'CTXS', 'QCOM', 'ES', 'EIX', 'PHM']\n"
          ],
          "name": "stdout"
        }
      ]
    },
    {
      "cell_type": "code",
      "metadata": {
        "id": "5USYAMtTcp8-"
      },
      "source": [
        "portfolio_data = rank_df.loc[portfolio, ['ROE', 'Operating Margin', 'EV/EBITDA', 'pe_ratio']]"
      ],
      "execution_count": 9,
      "outputs": []
    },
    {
      "cell_type": "code",
      "metadata": {
        "id": "Ar4EwVA0dw-f"
      },
      "source": [
        "hist_df_date = hist_df.reset_index().set_index('date')"
      ],
      "execution_count": 7,
      "outputs": []
    },
    {
      "cell_type": "code",
      "metadata": {
        "id": "yzAxpAhie56E"
      },
      "source": [
        "for symbol in enumerate(portfolio):\n",
        "  temp_df = hist_df_date[hist_df_date['symbol']==symbol[1]]['adjClose']\n",
        "  if symbol[0] == 0:\n",
        "    portfolio_return = temp_df\n",
        "  else:\n",
        "    portfolio_return += temp_df\n",
        "  "
      ],
      "execution_count": 8,
      "outputs": []
    },
    {
      "cell_type": "code",
      "metadata": {
        "colab": {
          "base_uri": "https://localhost:8080/"
        },
        "id": "KDJr7ID1hiU0",
        "outputId": "79e9e1a3-8f61-43f9-e93b-d7d9ee100651"
      },
      "source": [
        "API_KEY = 'c1d0593c7e77101920a7c89dac5a06f4'\n",
        "years = 5\n",
        "end_date = dt.datetime.now().date()\n",
        "delta = dt.timedelta(days=365 * years+1)\n",
        "start_date = end_date - delta\n",
        "benchmark_symb = 'SPY'\n",
        "\n",
        "benchmark_df = requests.get('https://financialmodelingprep.com/api/v3/historical-price-full/'+\n",
        "                       '{}?from={}&to={}&apikey={}'.format(benchmark_symb, start_date, end_date, API_KEY))\n",
        "benchmark_df = pd.DataFrame(benchmark_df.json()['historical'])\n",
        "\n",
        "benchmark_df.set_index('date', inplace=True)\n",
        "\n",
        "benchmark_df = benchmark_df.loc[:'2016-08-31']\n",
        "\n",
        "portfolio_return_df = portfolio_return.loc[:'2016-08-31']\n",
        "\n",
        "compare_df = pd.merge(portfolio_return_df, benchmark_df, how='left', left_index=True, right_index=True)\n",
        "\n",
        "compare_df.rename(columns={'adjClose_x':'Portfolio', 'adjClose_y':'Benchmark'},inplace=True)\n",
        "\n",
        "compare_df = compare_df[['Portfolio', 'Benchmark']]\n",
        "\n",
        "compare_df.sort_index().rebase().plot()"
      ],
      "execution_count": 10,
      "outputs": [
        {
          "output_type": "execute_result",
          "data": {
            "text/plain": [
              "<matplotlib.axes._subplots.AxesSubplot at 0x7f7b0a236410>"
            ]
          },
          "metadata": {
            "tags": []
          },
          "execution_count": 10
        }
      ]
    },
    {
      "cell_type": "code",
      "metadata": {
        "id": "5_j_XwT5-SmZ"
      },
      "source": [
        "ratio_list = [ROE_rank, OM_rank, EV_EBITDA_rank, PE_rank]\n",
        "\n",
        "def test_best_ratio(ratio_list):\n",
        "  pct_change = {}\n",
        "  portfolio = {}\n",
        "  for ratio in ratio_list:\n",
        "    selection = ratio.sort_values()[:30].index\n",
        "    for symbol in enumerate(selection):\n",
        "      temp_df = hist_df_date[hist_df_date['symbol']==symbol[1]]['adjClose']\n",
        "      if symbol[0] == 0:\n",
        "        portfolio_return = temp_df\n",
        "      else:\n",
        "        portfolio_return += temp_df\n",
        "    pct_change[ratio.name] = (portfolio_return[1] - portfolio_return[-1]) / portfolio_return[1]\n",
        "    portfolio[ratio.name] = portfolio_return\n",
        "\n",
        "  return pct_change, portfolio\n"
      ],
      "execution_count": 69,
      "outputs": []
    },
    {
      "cell_type": "code",
      "metadata": {
        "id": "GMbIjr1XDaWV"
      },
      "source": [
        "pct_change, portfolios = test_best_ratio(ratio_list)"
      ],
      "execution_count": 71,
      "outputs": []
    },
    {
      "cell_type": "code",
      "metadata": {
        "id": "2nWTazOCQ7xg"
      },
      "source": [
        "portfolio_return = portfolios['EV/EBITDA']"
      ],
      "execution_count": 76,
      "outputs": []
    },
    {
      "cell_type": "code",
      "metadata": {
        "id": "tFy25rNFOFvN"
      },
      "source": [
        "compare_df = pd.merge(portfolio_return, benchmark_df['adjClose'], how='inner', left_index=True, right_index=True, suffixes=('_portfolio', '_benchmark'))"
      ],
      "execution_count": 77,
      "outputs": []
    },
    {
      "cell_type": "code",
      "metadata": {
        "colab": {
          "base_uri": "https://localhost:8080/",
          "height": 286
        },
        "id": "DN-3TFynOSiy",
        "outputId": "f6366a60-ec52-4d98-8902-831aa38d03cf"
      },
      "source": [
        "compare_df.sort_index().rebase().plot()"
      ],
      "execution_count": 79,
      "outputs": [
        {
          "output_type": "execute_result",
          "data": {
            "text/plain": [
              "<matplotlib.axes._subplots.AxesSubplot at 0x7f7b0af39810>"
            ]
          },
          "metadata": {
            "tags": []
          },
          "execution_count": 79
        },
        {
          "output_type": "display_data",
          "data": {
            "image/png": "[encoded data removed]",
            "text/plain": [
              "<Figure size 432x288 with 1 Axes>"
            ]
          },
          "metadata": {
            "tags": [],
            "needs_background": "light"
          }
        }
      ]
    }
  ]
}