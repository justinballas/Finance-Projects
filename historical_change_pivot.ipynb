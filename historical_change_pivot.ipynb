{
  "nbformat": 4,
  "nbformat_minor": 0,
  "metadata": {
    "colab": {
      "name": "historical_change_pivot.ipynb",
      "provenance": [],
      "collapsed_sections": [],
      "authorship_tag": "ABX9TyNlBwa2c2bycxP36dXTQXrn",
      "include_colab_link": true
    },
    "kernelspec": {
      "name": "python3",
      "display_name": "Python 3"
    },
    "language_info": {
      "name": "python"
    }
  },
  "cells": [
    {
      "cell_type": "markdown",
      "metadata": {
        "id": "view-in-github",
        "colab_type": "text"
      },
      "source": [
        "<a href=\"https://colab.research.google.com/github/justinballas/Finance-Projects/blob/main/historical_change_pivot.ipynb\" target=\"_parent\"><img src=\"https://colab.research.google.com/assets/colab-badge.svg\" alt=\"Open In Colab\"/></a>"
      ]
    },
    {
      "cell_type": "code",
      "metadata": {
        "id": "gZ2Narx7Y932"
      },
      "source": [
        "import pandas as pd\n",
        "import datetime as dt\n",
        "import requests\n",
        "api_key = ''"
      ],
      "execution_count": null,
      "outputs": []
    },
    {
      "cell_type": "code",
      "metadata": {
        "id": "JZAkbNvgZuyy"
      },
      "source": [
        "#https://financialmodelingprep.com/api/v3/profile/AAPL?apikey=YOUR_API_KEY\n",
        "data = requests.get(f'https://financialmodelingprep.com/api/v3/historical-price-full/AAPL?apikey={api_key}').json()"
      ],
      "execution_count": null,
      "outputs": []
    },
    {
      "cell_type": "code",
      "metadata": {
        "id": "pGPWNlzJZ9jk"
      },
      "source": [
        "df = pd.DataFrame(data['historical'])\n",
        "df['date'] = pd.to_datetime(df['date'])\n",
        "df.set_index('date', inplace=True)"
      ],
      "execution_count": null,
      "outputs": []
    },
    {
      "cell_type": "code",
      "metadata": {
        "id": "01Ml3HCqaoXh"
      },
      "source": [
        "def pct_change_pivot(data, period='year', average=False):\n",
        "  def quarter(date):\n",
        "    '''\n",
        "    This function takes in a series of dates, then converts them to month and day\n",
        "    values, to be converted into fiscal quarters.\n",
        "    '''\n",
        "    date=date.strftime('%m-%d')\n",
        "\n",
        "    if date >='01-01' and date <= '03-31':\n",
        "      return 1\n",
        "    elif date >= '04-01' and date <= '06-31':\n",
        "      return 2\n",
        "    elif date >= '07-01' and date <= '09-30':\n",
        "      return 3\n",
        "    else:\n",
        "      return 4\n",
        "\n",
        "  temp_df = pd.DataFrame(data)\n",
        "  temp_df['Quarter'] = list(pd.Series(df.index).apply(lambda x: quarter(x)))\n",
        "  temp_df['Month'] = list(pd.Series(temp_df.index).apply(lambda x: x.month))\n",
        "  temp_df['Year'] = list(pd.Series(temp_df.index).apply(lambda x: x.year))\n",
        "  temp_df['Quarter_diff'] = temp_df['Quarter'].diff()\n",
        "  temp_df['Month_diff'] = temp_df['Month'].diff()\n",
        "  temp_df['Year_diff'] = temp_df['Year'].diff()\n",
        "\n",
        "  if period=='year':\n",
        "    pivot_table = pd.DataFrame(temp_df[temp_df['Year_diff'] != 0]['adjClose'])[::-1].pct_change()[::-1]\n",
        "  elif period=='month':\n",
        "    pivot_table = pd.DataFrame(temp_df[temp_df['Month_diff'] != 0]['adjClose'])[::-1].pct_change()[::-1]\n",
        "  elif period=='quarter':\n",
        "    pivot_table = pd.DataFrame(temp_df[temp_df['Quarter_diff'] != 0]['adjClose'])[::-1].pct_change()[::-1]\n",
        "  else:\n",
        "    pass\n",
        "\n",
        "  total_table = pd.merge(df2, df3, how='left', left_index=True, right_index=True)\n",
        "  \n",
        "  return pivot_table, temp_df"
      ],
      "execution_count": null,
      "outputs": []
    },
    {
      "cell_type": "code",
      "metadata": {
        "id": "-oigTOtKlkdn"
      },
      "source": [
        "pd.set_option('display.max_rows', 25)\n",
        "df2, df3 = pct_change_pivot(df['adjClose'], period='year')"
      ],
      "execution_count": null,
      "outputs": []
    },
    {
      "cell_type": "code",
      "metadata": {
        "colab": {
          "base_uri": "https://localhost:8080/"
        },
        "id": "rWQbp46-af2h",
        "outputId": "d593dcad-dc2f-491b-813a-acddc2759098"
      },
      "source": [
        "#Notes For Averaging\n",
        "pd.merge(df2, df3, how='left', left_index=True, right_index=True).groupby('Year').mean()['adjClose_x'].sort_values(ascending=False)"
      ],
      "execution_count": null,
      "outputs": [
        {
          "output_type": "execute_result",
          "data": {
            "text/plain": [
              "Year\n",
              "2019    0.889578\n",
              "2020    0.823067\n",
              "2017    0.484643\n",
              "2021    0.144246\n",
              "2018   -0.053902\n",
              "2016         NaN\n",
              "Name: adjClose_x, dtype: float64"
            ]
          },
          "metadata": {
            "tags": []
          },
          "execution_count": 115
        }
      ]
    },
    {
      "cell_type": "markdown",
      "metadata": {
        "id": "4a2WOq5Jnnd_"
      },
      "source": [
        "Next steps:\n",
        "  Create quarter and possibly hour/minute options\n",
        "  Turn index into date range\n",
        "  Create functionality to have multiple time periods/multi index\n",
        "  Add option to have a simplified naming convention (month name with year etc.)"
      ]
    }
  ]
}