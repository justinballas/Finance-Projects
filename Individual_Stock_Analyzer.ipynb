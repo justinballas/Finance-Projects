{
  "nbformat": 4,
  "nbformat_minor": 0,
  "metadata": {
    "colab": {
      "name": "Individual Stock Analyzer.ipynb",
      "provenance": [],
      "collapsed_sections": [],
      "authorship_tag": "ABX9TyOGGa0wfaf9f68P8TD5DNMe",
      "include_colab_link": true
    },
    "kernelspec": {
      "name": "python3",
      "display_name": "Python 3"
    },
    "language_info": {
      "name": "python"
    }
  },
  "cells": [
    {
      "cell_type": "markdown",
      "metadata": {
        "id": "view-in-github",
        "colab_type": "text"
      },
      "source": [
        "<a href=\"https://colab.research.google.com/github/justinballas/Finance-Projects/blob/main/Individual_Stock_Analyzer.ipynb\" target=\"_parent\"><img src=\"https://colab.research.google.com/assets/colab-badge.svg\" alt=\"Open In Colab\"/></a>"
      ]
    },
    {
      "cell_type": "code",
      "metadata": {
        "id": "WWMJ2WPyZu5A"
      },
      "source": [
        "import numpy as np\n",
        "import pandas as pd\n",
        "import matplotlib.pyplot as plt\n",
        "import requests\n",
        "%matplotlib inline\n",
        "API_KEY = \"\""
      ],
      "execution_count": null,
      "outputs": []
    },
    {
      "cell_type": "markdown",
      "metadata": {
        "id": "itL-rmnne4FX"
      },
      "source": [
        "Ratios:\n",
        "\n",
        "Here we will specify which stock we want to analyze. We will use the Fianancial Modelling Prep API to retreive our data. First we will retrieve quarterly ratios and the profile of the company"
      ]
    },
    {
      "cell_type": "code",
      "metadata": {
        "id": "AIyjI00EaKGo"
      },
      "source": [
        "#initializing the stock ticker that I want to analyze\n",
        "SYMBOL = 'AAPL'\n",
        "\n",
        "NUM_QUARTERS = 40\n",
        "\n",
        "ratios = requests.get('https://financialmodelingprep.com/api/v3/ratios/{}?period=quarter&limit={}&apikey={}'.format(SYMBOL, NUM_QUARTERS, API_KEY))\n",
        "ratios = ratios.json()\n",
        "ratios = pd.DataFrame(ratios)"
      ],
      "execution_count": null,
      "outputs": []
    },
    {
      "cell_type": "code",
      "metadata": {
        "id": "K5x0gNsXco12"
      },
      "source": [
        "ratios_list = ['symbol','date','period','priceEarningsRatio',\n",
        "               'priceEarningsToGrowthRatio', 'returnOnEquity',\n",
        "               'returnOnCapitalEmployed', 'enterpriseValueMultiple']\n",
        "\n",
        "ratios = ratios.loc[:, ratios_list].set_index('date')"
      ],
      "execution_count": null,
      "outputs": []
    },
    {
      "cell_type": "code",
      "metadata": {
        "id": "9vy4WW8ThjgA"
      },
      "source": [
        "profile = requests.get('https://financialmodelingprep.com/api/v3/profile/{}?apikey={}'.format(SYMBOL, API_KEY))\n",
        "profile = profile.json()"
      ],
      "execution_count": null,
      "outputs": []
    },
    {
      "cell_type": "code",
      "metadata": {
        "id": "dVHrpokCh_N9"
      },
      "source": [
        "profile = profile[0]\n",
        "symbol_industry = profile['industry']\n",
        "symbol_sector = profile['sector']"
      ],
      "execution_count": null,
      "outputs": []
    },
    {
      "cell_type": "code",
      "metadata": {
        "id": "ZJ3iOXqglAdZ"
      },
      "source": [
        "sectors_pe = requests.get('https://financialmodelingprep.com/api/v4/sector_price_earning_ratio?date=2021-05-07&exchange=NYSE&apikey={}'.format(API_KEY))\n",
        "sectors_pe = sectors_pe.json()"
      ],
      "execution_count": null,
      "outputs": []
    },
    {
      "cell_type": "code",
      "metadata": {
        "id": "zzt6xXnknVMU"
      },
      "source": [
        "sectors_pe = pd.DataFrame(sectors_pe)"
      ],
      "execution_count": null,
      "outputs": []
    },
    {
      "cell_type": "code",
      "metadata": {
        "id": "ig4oUx6snoAz"
      },
      "source": [
        "symb_sec_pe = float(sectors_pe[sectors_pe['sector']==symbol_sector]['pe'])"
      ],
      "execution_count": null,
      "outputs": []
    },
    {
      "cell_type": "markdown",
      "metadata": {
        "id": "nL_h_scrrLKu"
      },
      "source": [
        "Peer Analysis\n",
        "\n",
        "In this section, we will compare financial ratios, financial Statements, and DCFs to the companies peers. These are the companies peers according to the finnacial modelling prep API "
      ]
    },
    {
      "cell_type": "code",
      "metadata": {
        "id": "d55zYV00rmz5"
      },
      "source": [
        "symbol_peers = requests.get('https://financialmodelingprep.com/api/v4/stock_peers?symbol={}&apikey={}'.format(SYMBOL, API_KEY))\n",
        "symbol_peers = symbol_peers.json()"
      ],
      "execution_count": null,
      "outputs": []
    },
    {
      "cell_type": "code",
      "metadata": {
        "id": "8B3Fp5b4tI3S"
      },
      "source": [
        "peers_list = symbol_peers[0]['peersList']"
      ],
      "execution_count": null,
      "outputs": []
    },
    {
      "cell_type": "code",
      "metadata": {
        "id": "voORx5E2uvI_"
      },
      "source": [
        "#get ratios for pes"
      ],
      "execution_count": null,
      "outputs": []
    },
    {
      "cell_type": "code",
      "metadata": {
        "id": "HeyTHIfouxOp"
      },
      "source": [
        "peer_ratios = [requests.get('https://financialmodelingprep.com/api/v3/ratios/{}?period=quarter&limit={}&apikey={}'.format(peer, NUM_QUARTERS, API_KEY))\n",
        " for peer in peers_list]"
      ],
      "execution_count": null,
      "outputs": []
    },
    {
      "cell_type": "code",
      "metadata": {
        "id": "qrBZ63ChvHUu"
      },
      "source": [
        "peer_ratios = [response.json() for response in peer_ratios]\n",
        "peer_ratios = pd.concat([pd.DataFrame(response) for response in peer_ratios])"
      ],
      "execution_count": null,
      "outputs": []
    },
    {
      "cell_type": "code",
      "metadata": {
        "id": "zYaQKDUivgqX"
      },
      "source": [
        "current_peer_ratios = peer_ratios[peer_ratios['date'] == '2020-12-31']"
      ],
      "execution_count": null,
      "outputs": []
    },
    {
      "cell_type": "code",
      "metadata": {
        "id": "CuNwr5TTuid1"
      },
      "source": [
        "current_peer_ratios = current_peer_ratios[['symbol','period','priceEarningsRatio',\n",
        "               'priceEarningsToGrowthRatio', 'returnOnEquity',\n",
        "               'returnOnCapitalEmployed', 'enterpriseValueMultiple']].set_index('symbol')"
      ],
      "execution_count": null,
      "outputs": []
    },
    {
      "cell_type": "code",
      "metadata": {
        "colab": {
          "base_uri": "https://localhost:8080/",
          "height": 173
        },
        "id": "RX9smXiJwbS4",
        "outputId": "2ce6ed2e-a194-41b1-a77c-6f87f4bb4829"
      },
      "source": [
        "current_peer_ratios"
      ],
      "execution_count": null,
      "outputs": [
        {
          "output_type": "execute_result",
          "data": {
            "text/html": [
              "<div>\n",
              "<style scoped>\n",
              "    .dataframe tbody tr th:only-of-type {\n",
              "        vertical-align: middle;\n",
              "    }\n",
              "\n",
              "    .dataframe tbody tr th {\n",
              "        vertical-align: top;\n",
              "    }\n",
              "\n",
              "    .dataframe thead th {\n",
              "        text-align: right;\n",
              "    }\n",
              "</style>\n",
              "<table border=\"1\" class=\"dataframe\">\n",
              "  <thead>\n",
              "    <tr style=\"text-align: right;\">\n",
              "      <th></th>\n",
              "      <th>period</th>\n",
              "      <th>priceEarningsRatio</th>\n",
              "      <th>priceEarningsToGrowthRatio</th>\n",
              "      <th>returnOnEquity</th>\n",
              "      <th>returnOnCapitalEmployed</th>\n",
              "      <th>enterpriseValueMultiple</th>\n",
              "    </tr>\n",
              "    <tr>\n",
              "      <th>symbol</th>\n",
              "      <th></th>\n",
              "      <th></th>\n",
              "      <th></th>\n",
              "      <th></th>\n",
              "      <th></th>\n",
              "      <th></th>\n",
              "    </tr>\n",
              "  </thead>\n",
              "  <tbody>\n",
              "    <tr>\n",
              "      <th>MSFT</th>\n",
              "      <td>Q2</td>\n",
              "      <td>27.167805</td>\n",
              "      <td>2.380417</td>\n",
              "      <td>0.118731</td>\n",
              "      <td>0.075626</td>\n",
              "      <td>83.574116</td>\n",
              "    </tr>\n",
              "    <tr>\n",
              "      <th>ASML</th>\n",
              "      <td>Q2</td>\n",
              "      <td>30.787282</td>\n",
              "      <td>0.926586</td>\n",
              "      <td>0.101995</td>\n",
              "      <td>0.072774</td>\n",
              "      <td>124.920189</td>\n",
              "    </tr>\n",
              "    <tr>\n",
              "      <th>TXN</th>\n",
              "      <td>Q4</td>\n",
              "      <td>22.387994</td>\n",
              "      <td>0.914232</td>\n",
              "      <td>0.183738</td>\n",
              "      <td>0.109663</td>\n",
              "      <td>73.635157</td>\n",
              "    </tr>\n",
              "  </tbody>\n",
              "</table>\n",
              "</div>"
            ],
            "text/plain": [
              "       period  ...  enterpriseValueMultiple\n",
              "symbol         ...                         \n",
              "MSFT       Q2  ...                83.574116\n",
              "ASML       Q2  ...               124.920189\n",
              "TXN        Q4  ...                73.635157\n",
              "\n",
              "[3 rows x 6 columns]"
            ]
          },
          "metadata": {
            "tags": []
          },
          "execution_count": 74
        }
      ]
    }
  ]
}